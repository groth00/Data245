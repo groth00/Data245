{
  "cells": [
    {
      "cell_type": "code",
      "metadata": {},
      "source": [
        "import pandas as pd\n",
        "import numpy as np\n",
        "import matplotlib.pyplot as plt\n",
        "import seaborn as sns\n",
        "\n",
        "from sklearn.ensemble import RandomForestClassifier, BaggingClassifier\n",
        "from sklearn.model_selection import train_test_split\n",
        "from sklearn.preprocessing import MinMaxScaler\n",
        "from sklearn.linear_model import LogisticRegression\n",
        "from sklearn.metrics import confusion_matrix, classification_report\n",
        "from sklearn.decomposition import PCA\n",
        "\n",
        "plt.rcParams['figure.dpi'] = 300"
      ],
      "outputs": [],
      "execution_count": null
    },
    {
      "cell_type": "code",
      "metadata": {},
      "source": [
        "f1 = {'addr_state', 'annual_inc', 'application_type', 'dti', 'emp_length', \n",
        "      'fico_range_high', 'fico_range_low',  'grade', 'home_ownership', \n",
        "      'initial_list_status', 'installment', 'int_rate', 'loan_amnt', \n",
        "      'loan_status', 'mort_acc', 'open_acc', 'pub_rec', \n",
        "      'pub_rec_bankruptcies', 'purpose', 'revol_bal', 'revol_util', \n",
        "      'sub_grade', 'term', 'title', 'total_acc', 'verification_status'}\n",
        "\n",
        "f2 = {'acc_now_delinq', 'annual_inc', 'delinq_2yrs', 'dti', 'emp_length', \n",
        "      'fico_range_high', 'fico_range_low', 'home_ownership', 'il_util', \n",
        "      'installment', 'int_rate', 'loan_amnt', 'loan_status', \n",
        "      'max_bal_bc', 'mths_since_last_major_derog', 'num_accts_ever_120_pd', \n",
        "      'num_actv_rev_tl', 'num_rev_accts', 'num_sats', 'num_tl_90g_dpd_24m', \n",
        "      'open_act_il', 'pct_tl_nvr_dlq', 'pub_rec', 'pub_rec_bankruptcies', \n",
        "      'revol_util', 'sub_grade', 'tax_liens', 'tot_coll_amt', \n",
        "      'hardship_flag', 'hardship_status', 'hardship_length', \n",
        "      'debt_settlement_flag' }\n",
        "\n",
        "f3 = {'addr_state', 'annual_inc', 'application_type', 'dti', \n",
        "      'earliest_cr_line', 'emp_length', 'emp_title', 'fico_range_high', \n",
        "      'fico_range_low', 'grade', 'hardship_flag', 'home_ownership', \n",
        "      'id', 'initial_list_status', 'installment', 'int_rate', 'issue_d', \n",
        "      'loan_amnt', 'loan_status', 'mort_acc', 'open_acc', 'pub_rec', \n",
        "      'pub_rec_bankruptcies', 'purpose', 'revol_bal', 'revol_util', \n",
        "      'sub_grade', 'tax_liens', 'term', 'title', 'total_acc', \n",
        "      'verification_status'}\n",
        "\n",
        "f4 = {'acc_now_delinq', 'acc_open_past_24mths', 'addr_state', \n",
        "      'annual_inc',  'all_util', 'bc_util', 'revol_util', 'dti', \n",
        "      'emp_length', 'emp_title', 'fico_range_high', 'fico_range_low', \n",
        "      'home_ownership', 'inq_last_12m', 'int_rate', 'loan_amnt', \n",
        "      'mort_acc', 'mths_since_recent_inq', 'num_accts_ever_120_pd', \n",
        "      'num_tl_30dpd', 'num_tl_90g_dpd_24m', 'num_tl_op_past_12m', \n",
        "      'open_acc_6m', 'open_il_24m', 'open_rv_24m', 'percent_bc_gt_75', \n",
        "      'pub_rec', 'pub_rec_bankruptcies', 'term', 'total_acc', \n",
        "      'verification_status', 'loan_status'}\n",
        "\n",
        "features = f1 | f2 | f3 | f4\n",
        "to_remove = {'hardship_status', 'hardship_length', 'tot_coll_amt',\n",
        "             'mths_since_last_major_derog', 'id', 'grade', 'emp_title',\n",
        "             'issue_d', 'title', 'debt_settlement_flag', 'hardship_flag'}\n",
        "to_use = features - to_remove"
      ],
      "outputs": [],
      "execution_count": null
    },
    {
      "cell_type": "code",
      "metadata": {},
      "source": [
        "# Some Preprocessing \n",
        "\n",
        "df = pd.read_csv('loandata/Loan2007-2020Q3.gzip', usecols = to_use)"
      ],
      "outputs": [],
      "execution_count": null
    },
    {
      "cell_type": "code",
      "metadata": {},
      "source": [
        "# reformat int_rate and revol_util into float\n",
        "pattern = r\"\\s{0,}(\\d{1,}\\.?\\d{0,})\\%\"\n",
        "replace = lambda x: x.group(1)\n",
        "cols_to_replace = ['int_rate', 'revol_util']\n",
        "for col in cols_to_replace:\n",
        "    df[col] = df[col].astype(str)\n",
        "    df[col] = df[col].str.replace(pat = pattern, repl = replace, \n",
        "                                      regex = True)\n",
        "    df[col] = df[col].astype('float64')\n",
        "    \n",
        "# %%\n",
        "# ensure dti > 0\n",
        "df.drop(index = df[df['dti'] < 0].index, axis = 0, inplace = True)"
      ],
      "outputs": [],
      "execution_count": null
    },
    {
      "cell_type": "code",
      "metadata": {},
      "source": [
        "# fico ranges -> fico score (average)\n",
        "df['fico_score'] = df['fico_range_low'] + \\\n",
        "    df['fico_range_high'] // 2\n",
        "df.drop(['fico_range_low', 'fico_range_high'], axis = 1, inplace = True)"
      ],
      "outputs": [],
      "execution_count": null
    },
    {
      "cell_type": "code",
      "metadata": {},
      "source": [
        "# ----------------------------------------------------------------------------\n",
        "# Numerical Variables\n",
        "\n",
        "num_vars = df.columns[df.dtypes == 'float64']\n",
        "d = df[num_vars].describe()"
      ],
      "outputs": [],
      "execution_count": null
    },
    {
      "cell_type": "code",
      "metadata": {},
      "source": [
        "# detect cols with extreme outliers \n",
        "# check that the median isn't 0 (o/w the IQR calculation -> 0)\n",
        "idx_series = d.apply(lambda x: x['50%'] != 0 and \\\n",
        "                x['max'] > (5 * x['75%'] - x['25%']), axis = 0)\n",
        "cols_to_adjust = d.columns[idx_series.values == True]\n",
        "\n",
        "# replace extreme outliers with 1.5 * (Q3 - Q1) -> mild outlier value\n",
        "# alternatively, can find indexes for extreme outliers and delete those rows\n",
        "for col in cols_to_adjust:\n",
        "    third_quartile = df[col].quantile(0.75)\n",
        "    thresh = df[col].quantile(0.75) - df[col].quantile(0.25)\n",
        "    df[col].where(cond = df[col] < 5 * thresh,\n",
        "                        other = third_quartile + (1.5 * thresh), \n",
        "                        inplace = True, \n",
        "                        axis = 0)"
      ],
      "outputs": [],
      "execution_count": null
    },
    {
      "cell_type": "code",
      "metadata": {},
      "source": [
        "pd.set_option('max_columns', 38)\n",
        "df[num_vars].describe()"
      ],
      "outputs": [],
      "execution_count": null
    },
    {
      "cell_type": "code",
      "metadata": {},
      "source": [
        "to_plot = num_vars.sample(frac = 0.05, random_state = 111)\n",
        "\n",
        "for col in num_vars.columns:\n",
        "    g = sns.histplot(data = to_plot, x = col)\n",
        "    g.get_xaxis().set_visible(False)\n",
        "    g.set_title(f'{col}')\n",
        "    plt.show()\n",
        "    g.clear()"
      ],
      "outputs": [],
      "execution_count": null
    },
    {
      "cell_type": "code",
      "metadata": {},
      "source": [
        "# ----------------------------------------------------------------------------\n",
        "# Categorical Variables\n",
        "cat_vars = df.columns[df.dtypes == 'object']\n",
        "\n",
        "# emp_length -> int\n",
        "# see arg na_action; avoid applying to missing values & keep them as NaN\n",
        "df['employment_len'] = df['emp_length'].map(\n",
        "    {'< 1 year': 0,\n",
        "     '1 year': 1,\n",
        "     '2 years': 2,\n",
        "     '3 years': 3,\n",
        "     '4 years': 4,\n",
        "     '5 years': 5,\n",
        "     '6 years': 6,\n",
        "     '7 years': 7,\n",
        "     '8 years': 8,\n",
        "     '9 years': 9,\n",
        "     '10+ years': 10})\n",
        "df.drop(['emp_length'], axis = 1, inplace = True)\n",
        "\n",
        "# credit line -> year (STRING)\n",
        "pattern = r\"\\w+\\-(\\d{4})\"\n",
        "replace = lambda x: x.group(1)\n",
        "df['earliest_cr_line'] = df['earliest_cr_line'].str.replace(\n",
        "    pat = pattern, repl = replace, regex = True)\n",
        "\n",
        "# home ownership -> consolidate categories ANY, OTHER, NONE\n",
        "df['home_status'] = df['home_ownership'].map(\n",
        "    {'MORTGAGE': 'MORTGAGE',\n",
        "     'RENT': 'RENT',\n",
        "     'OWN': 'OWN',\n",
        "     'OTHER': 'OTHER',\n",
        "     'ANY': 'OTHER',\n",
        "     'NONE': 'OTHER'})\n",
        "df.drop(labels = ['home_ownership'], axis = 1, inplace = True)\n",
        "\n",
        "# loan_status -> binary label (Paid Off: 0, Charged Off: 1)\n",
        "df['y'] = df['loan_status']\\\n",
        "    .map({'Fully Paid': 0, 'Charged Off': 1})\n",
        "df.dropna(subset = ['y'], axis = 0, inplace = True)\n",
        "df.drop(['loan_status'], axis = 1, inplace = True)"
      ],
      "outputs": [],
      "execution_count": null
    },
    {
      "cell_type": "code",
      "metadata": {},
      "source": [
        "new_cat_vars = df.columns[df.dtypes == 'object']\n",
        "# plot categorical vars with horizontal countplot\n",
        "for col in new_cat_vars:\n",
        "    o = df[col].value_counts().index\n",
        "    g = sns.countplot(data = df, y = col, order = o)\n",
        "    g.set_ylabel(f'{col}', fontsize = 9)\n",
        "    g.set_yticklabels(labels = o, rotation = 0, fontsize = 7)\n",
        "    plt.show()\n",
        "    g.clear()"
      ],
      "outputs": [],
      "execution_count": null
    },
    {
      "cell_type": "code",
      "metadata": {},
      "source": [
        "\n"
      ],
      "outputs": [],
      "execution_count": null
    }
  ],
  "metadata": {
    "anaconda-cloud": {},
    "kernelspec": {
      "display_name": "Python 3",
      "language": "python",
      "name": "python3"
    },
    "language_info": {
      "codemirror_mode": {
        "name": "ipython",
        "version": 3
      },
      "file_extension": ".py",
      "mimetype": "text/x-python",
      "name": "python",
      "nbconvert_exporter": "python",
      "pygments_lexer": "ipython3",
      "version": "3.6.1"
    }
  },
  "nbformat": 4,
  "nbformat_minor": 4
}